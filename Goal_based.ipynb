{
 "cells": [
  {
   "cell_type": "code",
   "execution_count": null,
   "metadata": {},
   "outputs": [],
   "source": [
    "#importations\n",
    "import networkx as nx\n",
    "import matplotlib.pyplot as plt\n",
    "import matplotlib.patches as mpatches\n",
    "\n",
    "import random as r\n",
    "import pandas as pd"
   ]
  },
  {
   "cell_type": "code",
   "execution_count": null,
   "metadata": {},
   "outputs": [],
   "source": [
    "f = open(\"/home/roy/PRogramming/data.txt\")"
   ]
  },
  {
   "cell_type": "code",
   "execution_count": null,
   "metadata": {},
   "outputs": [],
   "source": [
    "def separate(x):\n",
    "    if x != '':\n",
    "        return list(map(int,x.split(\",\")))"
   ]
  },
  {
   "cell_type": "code",
   "execution_count": null,
   "metadata": {},
   "outputs": [],
   "source": [
    "adjacencyMatrix = f.read().split(\"\\n\")\n",
    "adjacencyMatrix = list(map(separate,adjacencyMatrix))"
   ]
  },
  {
   "cell_type": "code",
   "execution_count": null,
   "metadata": {},
   "outputs": [],
   "source": [
    "adjacencyMatrix = pd.DataFrame(adjacencyMatrix,index = range(1,16),columns = range(1,16))\n",
    "adjacencyMatrix"
   ]
  },
  {
   "cell_type": "code",
   "execution_count": null,
   "metadata": {},
   "outputs": [],
   "source": [
    "allpaths = []"
   ]
  },
  {
   "cell_type": "code",
   "execution_count": null,
   "metadata": {},
   "outputs": [],
   "source": [
    "def findpaths(graph,source,destination,visited,path):\n",
    "    visited.append(source)\n",
    "    path.append(source)\n",
    "    if source == destination:\n",
    "        allpaths.append(path.copy())\n",
    "    else:\n",
    "        if source in graph:\n",
    "            for i in graph[source]:\n",
    "                if i not in visited:\n",
    "                    findpaths(graph,i,destination,visited,path)\n",
    "    x = path.pop()\n",
    "    visited.remove(source)                    "
   ]
  },
  {
   "cell_type": "code",
   "execution_count": null,
   "metadata": {},
   "outputs": [],
   "source": [
    "#environment code\n",
    "class environment:\n",
    "    def __init__(self):\n",
    "        self.env = dict()\n",
    "\n",
    "    def createEnv(self):\n",
    "        for j in adjacencyMatrix.index:\n",
    "            for i in adjacencyMatrix.columns:\n",
    "                if adjacencyMatrix.at[j,i] == 1:\n",
    "                    if j in self.env:\n",
    "                        self.env[j].append(i)\n",
    "                    else:\n",
    "                        self.env[j] = [i]\n",
    "\n",
    "    def showEnv(self):\n",
    "        g = nx.Graph()\n",
    "        for i in self.env:\n",
    "            for j in self.env[i]:\n",
    "               if (i,j) not in g.edges() or (j,i) not in g.edges():  \n",
    "                g.add_edge(i,j)\n",
    "                g[i][j]['weight'] = r.randint(a=1,b=10)\n",
    "        return g                          "
   ]
  },
  {
   "cell_type": "code",
   "execution_count": null,
   "metadata": {},
   "outputs": [],
   "source": [
    "#Agent code\n",
    "class Agent:\n",
    "    def __init__(self) :\n",
    "        self.paths = None\n",
    "    def getRoutes(self,env):\n",
    "        findpaths(env,1,15,[],[])\n",
    "        self.paths = allpaths.copy()\n",
    "        print(r.choice(self.paths))\n",
    "        # print(min(self.paths, key=len))"
   ]
  },
  {
   "cell_type": "code",
   "execution_count": null,
   "metadata": {},
   "outputs": [],
   "source": [
    "#drivers code\n",
    "e = environment()\n",
    "e.createEnv()\n",
    "g = e.showEnv()\n",
    "pos = nx.spring_layout(g)"
   ]
  },
  {
   "cell_type": "code",
   "execution_count": null,
   "metadata": {},
   "outputs": [],
   "source": [
    "#Visualize\n",
    "plt.figure(figsize=(15,15))\n",
    "nx.draw_networkx_nodes(g, pos=pos,node_size=700)\n",
    "nx.draw_networkx_edges(g, pos=pos)\n",
    "nx.draw_networkx_labels(g, pos, font_size=15,font_color='w')\n",
    "nx.draw_networkx_edge_labels(g,pos,edge_labels=nx.get_edge_attributes(g,'weight'),font_size=20)\n",
    "plt.title(\"Environment\",font={\"size\":30})\n",
    "plt.show()"
   ]
  },
  {
   "cell_type": "code",
   "execution_count": null,
   "metadata": {},
   "outputs": [],
   "source": [
    "#Create agent\n",
    "a = Agent()\n",
    "a.getRoutes(e.env) "
   ]
  }
 ],
 "metadata": {
  "kernelspec": {
   "display_name": "Python 3.9.2 64-bit",
   "language": "python",
   "name": "python3"
  },
  "language_info": {
   "codemirror_mode": {
    "name": "ipython",
    "version": 3
   },
   "file_extension": ".py",
   "mimetype": "text/x-python",
   "name": "python",
   "nbconvert_exporter": "python",
   "pygments_lexer": "ipython3",
   "version": "3.9.2"
  },
  "orig_nbformat": 4,
  "vscode": {
   "interpreter": {
    "hash": "31f2aee4e71d21fbe5cf8b01ff0e069b9275f58929596ceb00d14d90e3e16cd6"
   }
  }
 },
 "nbformat": 4,
 "nbformat_minor": 2
}
