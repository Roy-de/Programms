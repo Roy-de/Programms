{
 "cells": [
  {
   "attachments": {},
   "cell_type": "markdown",
   "metadata": {},
   "source": [
    "\n",
    "1. Setting the network\n",
    "First, let's create lists containing the possible parameters for our agents. We will create a seperate list for the possible vowel representations and possible personalties our agents can have:"
   ]
  },
  {
   "cell_type": "code",
   "execution_count": null,
   "metadata": {},
   "outputs": [],
   "source": [
    "import random\n",
    "#Setting the parameters\n",
    "vowels = ['a','i']\n",
    "personalities = ['F','S'] #F = flexible , S = Stubborn "
   ]
  },
  {
   "cell_type": "markdown",
   "metadata": {},
   "source": [
    "And let's write a simple function to create agents. An agent is just represented as a list with two values (a vowel and a personality)."
   ]
  },
  {
   "cell_type": "code",
   "execution_count": null,
   "metadata": {},
   "outputs": [],
   "source": [
    "#function to create agents\n",
    "def make_agent(vowel,personality):\n",
    "    return [vowel,personality]\n",
    "\n",
    "#Creating a flexible agent with vowel 'i' using our function\n",
    "agent_one = make_agent(vowels[1],personalities[0])\n",
    "print(agent_one)"
   ]
  },
  {
   "cell_type": "markdown",
   "metadata": {},
   "source": [
    "Now, we can write functions that make populations of N agents (again, in the form of a list):"
   ]
  },
  {
   "cell_type": "code",
   "execution_count": null,
   "metadata": {},
   "outputs": [],
   "source": [
    "#Create a function that generates a population of N identical agents with randomly selected parameters from each list\n",
    "\n",
    "def make_population_identical(N):\n",
    "    population = []\n",
    "    for i in range(N):\n",
    "        agent =  make_agent(vowels[1],personalities[0])\n",
    "        population.append(agent)\n",
    "    return population\n",
    "\n",
    "# Call the function to make a population of 5 identical agents\n",
    "population_test = make_population_identical(7)\n",
    "print(population_test)    "
   ]
  },
  {
   "cell_type": "markdown",
   "metadata": {},
   "source": [
    "You can run the box of code below multiple times to make sure you are really getting random populations:\n",
    "\n"
   ]
  },
  {
   "cell_type": "code",
   "execution_count": null,
   "metadata": {},
   "outputs": [],
   "source": [
    "#Create a function that generates of population of N agents with randomly selected parameters from each list\n",
    "# using random.choice()\n",
    "def make_population_random(N):\n",
    "    population = []\n",
    "    for i in range(N):\n",
    "        v = random.randint(0,1)\n",
    "        p = random.randint(0,1)\n",
    "\n",
    "        agent = make_agent(vowels[v],personalities[p])\n",
    "        population.append(agent)\n",
    "    return population\n",
    "\n",
    "#Call the function to make a population of 5 random agents\n",
    "population = make_population_random(30)\n",
    "print(population)    "
   ]
  },
  {
   "cell_type": "code",
   "execution_count": null,
   "metadata": {},
   "outputs": [],
   "source": [
    "#Create a function that calculates the proportion of agents with the variant a in the population\n",
    "\n",
    "def count(population):\n",
    "    t = 0 #must be a float\n",
    "    for agent in population:\n",
    "        if agent[0] == 'a':\n",
    "            t += 1\n",
    "    return t/ len(population)    "
   ]
  },
  {
   "cell_type": "markdown",
   "metadata": {},
   "source": [
    "For a given population, we can now check how many agents are using each possible vowel variant. This is important, because later we'll also want to see how the proportion of each variant changes over the course of multiple interactions.\n",
    "\n",
    "For this, we'll write a function that calculates the proportion of a given vowel in a population:"
   ]
  },
  {
   "cell_type": "code",
   "execution_count": null,
   "metadata": {},
   "outputs": [],
   "source": [
    "#call the function on a population of 20 random agents\n",
    "#You can run this box multiple times to see the proportion in different population\n",
    "\n",
    "prop_a = count(make_population_random(20))\n",
    "print('The proportion of [a] in the population is',prop_a)"
   ]
  },
  {
   "cell_type": "markdown",
   "metadata": {},
   "source": [
    "INTERACTION TIME \n",
    "\n",
    "\n",
    "We have a population and now we want the agents to interact with each other\n",
    "So first, we need to make a function that randomly selects two agents from the population"
   ]
  },
  {
   "cell_type": "code",
   "execution_count": null,
   "metadata": {},
   "outputs": [],
   "source": [
    "from numpy.random import choice\n",
    "\n",
    "def choose_pair(population):\n",
    "    i =  random.randint(0, len(population) - 1)#Python counts from 0\n",
    "    j = random.randint(0,len(population) - 1)\n",
    "\n",
    "    while i == j:\n",
    "        j = random.randint(0,len(population) - 1)#make sure the same agent is not selected twice\n",
    "    return population[i],population[j]    \n",
    "\n",
    "    # And we'll test it to see that really does what we want\n",
    "# You can run this box of code multiple times to make sure you are really geting random pairs\n",
    "\n",
    "pop = make_population_random(8)\n",
    "listener, producer = choose_pair(pop)\n",
    "\n",
    "print('The population is ',population)\n",
    "print('This is the chosen pair ',listener,producer)\n",
    "print('The listener is ',listener)\n",
    "print('The producer is ',producer)"
   ]
  },
  {
   "cell_type": "markdown",
   "metadata": {},
   "source": [
    "Now, let's write a function that makes this pair \"interact\"!\n",
    "\n",
    "If the producer and listener have the same vowel representation, nothing changes. If the agents have different vowels, then the listener's action depends on their prior personality: if they are stubborn, they will not change their vowel; but if they are flexible, they will update their vowel according to the producer.\n",
    "\n",
    "So if the listener is flexible and has a different variant than the producer, we want to update the listener's vowel based on the producer's vowel.\n",
    "\n",
    "To do this, we'll need to use a function called \"deepcopy\" to make a copy of the producer rather than pointing to the producer itself, because otherwise Python will have these two agents linked togeher forever. This is of course unwanted, since we want to update the listener only once based on a single interaction. Therefore, we'll use function called \"deepcopy\", which basically does what we want except for not linking the actual agents together."
   ]
  },
  {
   "cell_type": "code",
   "execution_count": null,
   "metadata": {},
   "outputs": [],
   "source": [
    "from copy import deepcopy\n",
    "\n",
    "def interact_test(listener,producer):\n",
    "    if listener[0] == producer[0]:\n",
    "        return listener#if the producer and listener have the same vowels\n",
    "    else:\n",
    "        if listener[1] == 'S':\n",
    "            return listener \n",
    "        else:\n",
    "            listener[0] == deepcopy(producer[0])\n",
    "            return listener       "
   ]
  },
  {
   "cell_type": "markdown",
   "metadata": {},
   "source": [
    "You can check the output of the loop by running the code line below multiple times"
   ]
  },
  {
   "cell_type": "code",
   "execution_count": null,
   "metadata": {},
   "outputs": [],
   "source": [
    "randomlistener ,randomproducer = choose_pair(make_population_random(8))\n",
    "\n",
    "print('Listener ',randomlistener)\n",
    "print('Producer ',randomproducer)\n",
    "\n",
    "updated_listener = interact_test(randomlistener,randomproducer)\n",
    "\n",
    "print('Listener after interacting ',updated_listener)"
   ]
  },
  {
   "cell_type": "markdown",
   "metadata": {},
   "source": [
    "So now we have a tested function that updates agents after interaction. Since we don't actually need the function to return the listener as output, we can change it to have no output, only to update the agents if needed:"
   ]
  },
  {
   "cell_type": "code",
   "execution_count": null,
   "metadata": {},
   "outputs": [],
   "source": [
    "#Creates a function that only updates agents using \"pass\" (Which means do nothing in python)\n",
    "\n",
    "def ineract(listener,producer):\n",
    "\n",
    "    if listener[0] == producer[0]:\n",
    "        pass\n",
    "    else:\n",
    "        if listener == 'S':\n",
    "            listener[0] = deepcopy(producer[0])"
   ]
  },
  {
   "cell_type": "markdown",
   "metadata": {},
   "source": [
    "Ok, we're almost ready to run some simulations! So far, we've created a a few basic functions:\n",
    "\n",
    "Make Agent - creating an agent that has a vowel and a personality\n",
    "\n",
    "Make Population - creating a population of agents using the function in (1)\n",
    "\n",
    "Count - counting the proportion of agents with the same vowel in the population created by \n",
    "(2)\n",
    "\n",
    "Choose Pair - choosing two agents out of the population created in (2)\n",
    "\n",
    "Interact - implementing the interaxction between the two agents chosen in (4)\n",
    "\n",
    "3. Simulation time!\n",
    "The next step is to create a function that loops over the entire population based on a given number of desired interactions and check how many agents are using each possible vowel variant over time."
   ]
  },
  {
   "cell_type": "code",
   "execution_count": null,
   "metadata": {},
   "outputs": [],
   "source": [
    "def simulate(n ,k):\n",
    "    population = make_population_random(n)\n",
    "   #print(\"Initial Population:\",population) \n",
    "    proportion = []\n",
    "\n",
    "    for i in range(k):\n",
    "        pair =  choose_pair(population)\n",
    "        ineract(pair[0],pair[1])\n",
    "        proportion.append(count(population))\n",
    "    return population,proportion    "
   ]
  }
 ],
 "metadata": {
  "kernelspec": {
   "display_name": "Python 3.9.2 64-bit",
   "language": "python",
   "name": "python3"
  },
  "language_info": {
   "codemirror_mode": {
    "name": "ipython",
    "version": 3
   },
   "file_extension": ".py",
   "mimetype": "text/x-python",
   "name": "python",
   "nbconvert_exporter": "python",
   "pygments_lexer": "ipython3",
   "version": "3.9.2"
  },
  "orig_nbformat": 4,
  "vscode": {
   "interpreter": {
    "hash": "31f2aee4e71d21fbe5cf8b01ff0e069b9275f58929596ceb00d14d90e3e16cd6"
   }
  }
 },
 "nbformat": 4,
 "nbformat_minor": 2
}
